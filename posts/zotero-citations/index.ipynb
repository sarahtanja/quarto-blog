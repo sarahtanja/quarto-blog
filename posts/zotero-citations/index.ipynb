{
  "cells": [
    {
      "cell_type": "raw",
      "metadata": {},
      "source": [
        "---\n",
        "title: \"Zotero Citations in R using Quarto\"\n",
        "author: \"Sarah Tanja\"\n",
        "date: '06/21/2023'\n",
        "categories: [learning journey]\n",
        "image: thumbnail.jpg\n",
        "draft: false\n",
        "toc: true\n",
        "toc-title: Contents <i class=\"bi bi-bookmark-heart\"></i>\n",
        "toc-depth: 5\n",
        "toc-location: left\n",
        "reference-location: margin\n",
        "citation-location: margin\n",
        "---"
      ],
      "id": "943c30c2"
    },
    {
      "cell_type": "markdown",
      "metadata": {},
      "source": [
        "```\n",
        "```{text}\n",
        "---\n",
        "bibliography: references.bib\n",
        "reference-location: margin\n",
        "citation-location: margin\n",
        "---\n",
        "```\n",
        "```"
      ],
      "id": "f9cda6c3"
    }
  ],
  "metadata": {
    "kernelspec": {
      "display_name": "Python 3",
      "language": "python",
      "name": "python3"
    }
  },
  "nbformat": 4,
  "nbformat_minor": 5
}